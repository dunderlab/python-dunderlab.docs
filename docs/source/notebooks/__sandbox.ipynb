{
 "cells": [
  {
   "cell_type": "markdown",
   "id": "add390ad-b99c-4f7d-9581-49b744701864",
   "metadata": {},
   "source": [
    "<div class=\"alert alert-warning\"> Note\n",
    "    \n",
    "After to generate the <a href='https://www.sphinx-doc.org/en/master/#'>Sphinx documentation</a> via <a href='https://www.sphinx-doc.org/en/master/usage/quickstart.html'>sphinx-quickstart</a>.  \n",
    "</div>"
   ]
  }
 ],
 "metadata": {
  "kernelspec": {
   "display_name": "Python 3 (ipykernel)",
   "language": "python",
   "name": "python3"
  },
  "language_info": {
   "codemirror_mode": {
    "name": "ipython",
    "version": 3
   },
   "file_extension": ".py",
   "mimetype": "text/x-python",
   "name": "python",
   "nbconvert_exporter": "python",
   "pygments_lexer": "ipython3",
   "version": "3.11.8"
  }
 },
 "nbformat": 4,
 "nbformat_minor": 5
}
