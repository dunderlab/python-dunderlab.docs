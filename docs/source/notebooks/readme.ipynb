{
 "cells": [
  {
   "cell_type": "markdown",
   "id": "0",
   "metadata": {},
   "source": [
    "# DunderLab-Docs"
   ]
  },
  {
   "cell_type": "markdown",
   "id": "5ffb3ad3-3ebb-4399-8782-83c2b44b0e99",
   "metadata": {},
   "source": [
    "This Python module allows to create [Sphinx Documntation](https://www.sphinx-doc.org/en/master/) from simple [Jupyter Notebooks](https://jupyter.org/). Is basically a preconfigured environment that use [nbsphinx](https://nbsphinx.readthedocs.io/) in background with a set of custom styles and preloaded modules."
   ]
  },
  {
   "cell_type": "markdown",
   "id": "b77f2e26-8578-41a1-8383-551581c74ae0",
   "metadata": {},
   "source": [
    "## Instalation"
   ]
  },
  {
   "cell_type": "code",
   "execution_count": null,
   "id": "6ec548f6-f284-4e8a-a7b8-3cc9db3f5663",
   "metadata": {},
   "outputs": [],
   "source": [
    "pip install -U dunderlab-docs"
   ]
  },
  {
   "cell_type": "markdown",
   "id": "89fbb126-19a7-490f-8c3d-5dcc9e0220ad",
   "metadata": {},
   "source": [
    "## Configuration"
   ]
  },
  {
   "cell_type": "markdown",
   "id": "4c3f77ad-f588-457a-81b3-359e29f3521e",
   "metadata": {},
   "source": [
    "In the ```conf.py``` file (from [sphinx](https://www.sphinx-doc.org/en/master/usage/configuration.html#example-of-configuration-file)), add ```nbsphinx``` and ```dunderlab.docs``` to the list of extensions."
   ]
  },
  {
   "cell_type": "code",
   "execution_count": null,
   "id": "d20db022-b611-4edf-980b-0f1330e7cd36",
   "metadata": {},
   "outputs": [],
   "source": [
    "extensions = [\n",
    "    'nbsphinx',\n",
    "    'dunderlab.docs',\n",
    "]"
   ]
  },
  {
   "cell_type": "markdown",
   "id": "2e9c6ec6-cdac-4e1b-93c6-74db906f891c",
   "metadata": {},
   "source": [
    "## Notebooks\n",
    "\n",
    "In the first build, for example ```make clean html```, the system will create (if not yet exist) the folder ```notebooks``` with some files in it."
   ]
  },
  {
   "cell_type": "markdown",
   "id": "a2c47dcd-a652-4baa-bfd6-0c337066a3d1",
   "metadata": {},
   "source": [
    "```\n",
    "docs/\n",
    "    build/\n",
    "    source/\n",
    "        conf.py\n",
    "        index.rst\n",
    "        _modules/\n",
    "        _static/\n",
    "        _templates/\n",
    "->      notebooks/\n",
    "->          01-getting_started.ipynb\n",
    "->          readme.ipynb\n",
    "->          __sandbox.ipynb\n",
    "```"
   ]
  },
  {
   "cell_type": "markdown",
   "id": "0a5fb7c8-e147-4e59-89f6-1c5e7a92c4b6",
   "metadata": {},
   "source": [
    "The notebook ```readme.ipynb``` is mandatory, this will be used to generate the ```README.md``` in the root of the Python package. All documentation notebooks are sortered by name, so, is recommendable to name then with numeric prefixes. Notebooks names that starts with ```__``` will not be rendered into the documentation."
   ]
  },
  {
   "cell_type": "markdown",
   "id": "8038a2f0-a96c-46c0-8a59-a976f941d258",
   "metadata": {},
   "source": [
    "## Features\n",
    "\n",
    " * Automatic generation of README.md\n",
    " * Automatic index in html view\n",
    " * Compatibe with [Read the Docs](https://readthedocs.org/)"
   ]
  },
  {
   "cell_type": "markdown",
   "id": "2a1bdcd7-2f26-4150-b758-43421b844b5e",
   "metadata": {},
   "source": [
    "# Troubleshooting"
   ]
  },
  {
   "cell_type": "markdown",
   "id": "067c3d06-f2c4-476e-9860-f20abf105422",
   "metadata": {},
   "source": [
    "**Index and Module Index is empty**:  \n",
    "Just add the target module to the ```PATH``` in the ```conf.py``` file.\n",
    "```\n",
    "import os\n",
    "import sys\n",
    "\n",
    "sys.path.insert(0, os.path.abspath('relative_path_to_module'))\n",
    "```"
   ]
  }
 ],
 "metadata": {
  "kernelspec": {
   "display_name": "Python 3 (ipykernel)",
   "language": "python",
   "name": "python3"
  },
  "language_info": {
   "codemirror_mode": {
    "name": "ipython",
    "version": 3
   },
   "file_extension": ".py",
   "mimetype": "text/x-python",
   "name": "python",
   "nbconvert_exporter": "python",
   "pygments_lexer": "ipython3",
   "version": "3.10.9"
  }
 },
 "nbformat": 4,
 "nbformat_minor": 5
}
