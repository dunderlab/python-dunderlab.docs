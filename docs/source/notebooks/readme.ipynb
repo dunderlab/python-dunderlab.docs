{
 "cells": [
  {
   "cell_type": "markdown",
   "id": "0",
   "metadata": {},
   "source": [
    "# DunderLab's Documentation Guide"
   ]
  },
  {
   "cell_type": "markdown",
   "id": "5ffb3ad3-3ebb-4399-8782-83c2b44b0e99",
   "metadata": {},
   "source": [
    "This Python module facilitates the creation of [Sphinx Documentation](https://www.sphinx-doc.org/en/master/) directly from [Jupyter Notebooks](https://jupyter.org/). Essentially, it provides a preconfigured environment that utilizes [nbsphinx](https://nbsphinx.readthedocs.io/) in the background, complete with custom styles and preloaded modules."
   ]
  },
  {
   "cell_type": "markdown",
   "id": "b77f2e26-8578-41a1-8383-551581c74ae0",
   "metadata": {},
   "source": [
    "## Installation"
   ]
  },
  {
   "cell_type": "code",
   "execution_count": null,
   "id": "6ec548f6-f284-4e8a-a7b8-3cc9db3f5663",
   "metadata": {},
   "outputs": [],
   "source": [
    "$ pip install -U dunderlab-docs"
   ]
  },
  {
   "cell_type": "markdown",
   "id": "4c3f77ad-f588-457a-81b3-359e29f3521e",
   "metadata": {},
   "source": [
    "To generate [Sphinx documentation](https://www.sphinx-doc.org/en/master/#), start with the [sphinx-quickstart](https://www.sphinx-doc.org/en/master/usage/quickstart.html) command. Then, in the Sphinx `conf.py` file, add '[sphinx](https://www.sphinx-doc.org/en/master/usage/configuration.html#example-of-configuration-file)' and `dunderlab.docs` to the extensions list."
   ]
  },
  {
   "cell_type": "code",
   "execution_count": null,
   "id": "d20db022-b611-4edf-980b-0f1330e7cd36",
   "metadata": {},
   "outputs": [],
   "source": [
    "extensions = [\n",
    "    'nbsphinx',\n",
    "    'dunderlab.docs',\n",
    "]"
   ]
  },
  {
   "cell_type": "markdown",
   "id": "be5f5743-e941-4d31-bd7e-1deaf12175d0",
   "metadata": {},
   "source": [
    "## Configuration"
   ]
  },
  {
   "cell_type": "markdown",
   "id": "37076538-278f-4e5c-9918-01ff66a23f8c",
   "metadata": {},
   "source": [
    "### ```dunderlab_custom_index```\n",
    "\n",
    "This setting allows you to insert a custom ReStructuredText into the `index.rst` file. This custom index will be rendered following the main index and will also appear in the sidebar."
   ]
  },
  {
   "cell_type": "code",
   "execution_count": null,
   "id": "d811fff9-df78-417b-9ee5-3af2772c9624",
   "metadata": {},
   "outputs": [],
   "source": [
    "dunderlab_custom_index = f\"\"\"\n",
    ".. toctree::\n",
    "   :glob:\n",
    "   :maxdepth: 2\n",
    "   :name: mastertoc3\n",
    "   :caption: Submodule 1\n",
    "\n",
    "   notebooks/submodule1/*\n",
    "\n",
    "\n",
    ".. toctree::\n",
    "   :glob:\n",
    "   :maxdepth: 2\n",
    "   :name: mastertoc3\n",
    "   :caption: Submodule 2\n",
    "\n",
    "   notebooks/submodule2/*\n",
    "    \"\"\""
   ]
  },
  {
   "cell_type": "markdown",
   "id": "b5d4328b-19d0-440c-8f1a-ee6bd04bdc9f",
   "metadata": {},
   "source": [
    "### ```dunderlab_color_links```\n",
    "\n",
    "Customize your documentation's appearance by altering the link colors. For instance, setting `dunderlab_color_links` to `#4db6ac` changes all links to a blue shade, adding a unique touch to your documentation. Remember, changes to the stylesheet impact the entire documentation, so test thoroughly before publishing."
   ]
  },
  {
   "cell_type": "code",
   "execution_count": 3,
   "id": "73a2fd18-7e8a-4eaa-b6ce-1416473cda42",
   "metadata": {
    "tags": []
   },
   "outputs": [],
   "source": [
    "dunderlab_color_links = '#4db6ac'"
   ]
  },
  {
   "cell_type": "markdown",
   "id": "bb71de2c-258b-43ba-bdb7-cd0c01186399",
   "metadata": {},
   "source": [
    "### ```dunderlab_code_reference```\n",
    "\n",
    "This configuration value can be used to disable the generation of certain index inputs in Sphinx documentation. Specifically, setting to ```True``` will enable the generation of the index inputs genindex, modindex, and search, while setting it to ```False``` will disable their generation."
   ]
  },
  {
   "cell_type": "code",
   "execution_count": null,
   "id": "b08fa014-83f8-4be7-9508-5818ef7e66ce",
   "metadata": {},
   "outputs": [],
   "source": [
    "dunderlab_code_reference = False"
   ]
  },
  {
   "cell_type": "markdown",
   "id": "e9de105d-3c9c-4b1f-b16b-fb559bfabcd9",
   "metadata": {},
   "source": [
    "### ```dunderlab_github_repository```\n",
    "\n",
    "This configuration specifies the project repository, which will be used to adjust the URLs of the images in the ```README.md``` file."
   ]
  },
  {
   "cell_type": "markdown",
   "id": "2e9c6ec6-cdac-4e1b-93c6-74db906f891c",
   "metadata": {},
   "source": [
    "## Notebooks\n",
    "\n",
    "In the first build, for example ```make clean html```, the system will create (if not yet exist) the folder ```notebooks``` with some files in it."
   ]
  },
  {
   "cell_type": "markdown",
   "id": "a2c47dcd-a652-4baa-bfd6-0c337066a3d1",
   "metadata": {},
   "source": [
    "```\n",
    "docs/\n",
    "    build/\n",
    "    source/\n",
    "        conf.py\n",
    "        index.rst\n",
    "        _modules/\n",
    "        _static/\n",
    "        _templates/\n",
    "->      notebooks/\n",
    "->          01-getting_started.ipynb\n",
    "->          readme.ipynb\n",
    "->          __sandbox.ipynb\n",
    "```"
   ]
  },
  {
   "cell_type": "markdown",
   "id": "0a5fb7c8-e147-4e59-89f6-1c5e7a92c4b6",
   "metadata": {},
   "source": [
    "The `readme.ipynb` notebook is mandatory, as it generates the `README.md` file in the root of the Python package. Documentation notebooks should be named with numeric prefixes for sorting purposes. Notebooks named with `__` prefixes won't be rendered into the documentation."
   ]
  },
  {
   "cell_type": "markdown",
   "id": "37484555-183f-48b9-b57e-3d8b82d157d3",
   "metadata": {
    "tags": []
   },
   "source": [
    "## Special Notebooks names\n",
    "\n",
    "### ```readme.ipynb```\n",
    "This notebook is used to generate the main documentation page, which is typically the ```index.rst file```. The notebook is converted into a ReStructuredText file, which is then rendered as HTML to create the main documentation page. Additionally, the ```readme.ipynb``` notebook is also used to generate the ```README.md``` file that is typically found in the root of your project. This file can provide a brief overview of your project and its purpose, along with any relevant installation or usage instructions.\n",
    "\n",
    "\n",
    "### ```license.ipynb```\n",
    "This notebook is used to generate the ```LICENSE``` file that is typically found in the root of your project. This file specifies the terms under which your code is licensed and provides information about how others can use and modify your code. It is recommended that the ```license.ipynb``` notebook contain a single Markdown or plain text cell that includes the full text of your project's license. This can help ensure that the license text is accurate and up-to-date, and can simplify the process of updating the license if needed.\n",
    "\n",
    "### ```footer.ipynb```\n",
    "This notebook is used to generate a footer that appears at the bottom of the main documentation page and the project's `README.md` file. It can contain any content you want to include in the footer, such as copyright information, acknowledgments, or links to related resources. During the documentation build process, the notebook is converted into HTML and added to the bottom of the main documentation page and `README.md` file. "
   ]
  },
  {
   "cell_type": "markdown",
   "id": "8038a2f0-a96c-46c0-8a59-a976f941d258",
   "metadata": {},
   "source": [
    "## Features\n",
    "\n",
    " * Automatic generation of README.md\n",
    " * Automatic index in html view\n",
    " * Compatibe with [Read the Docs](https://readthedocs.org/)"
   ]
  },
  {
   "cell_type": "markdown",
   "id": "2a1bdcd7-2f26-4150-b758-43421b844b5e",
   "metadata": {},
   "source": [
    "# Troubleshooting"
   ]
  },
  {
   "cell_type": "markdown",
   "id": "067c3d06-f2c4-476e-9860-f20abf105422",
   "metadata": {},
   "source": [
    "**If the Index and Module Index appear empty:**  \n",
    "Resolve this by adding the target module's path to the PATH variable in the `conf.py` file\n",
    "``` python\n",
    "import os\n",
    "import sys\n",
    "\n",
    "sys.path.insert(0, os.path.abspath('relative_path_to_module'))\n",
    "```\n",
    "\n",
    "\n",
    "**If images aren't visible in the readmereadme.md file:**  \n",
    "Verify their paths to ensure they're accessible from the GitHub repository. Relative paths must be correctly set relative to the `README.md` file's location.  \n",
    "The images used in the `readme.ipynb` notebook should be placed in a folder called `_images`."
   ]
  },
  {
   "cell_type": "markdown",
   "id": "01d80973-a965-460f-99fe-f5b047f356c4",
   "metadata": {},
   "source": [
    "![test_image](_images/test.png)"
   ]
  }
 ],
 "metadata": {
  "kernelspec": {
   "display_name": "Python 3 (ipykernel)",
   "language": "python",
   "name": "python3"
  },
  "language_info": {
   "codemirror_mode": {
    "name": "ipython",
    "version": 3
   },
   "file_extension": ".py",
   "mimetype": "text/x-python",
   "name": "python",
   "nbconvert_exporter": "python",
   "pygments_lexer": "ipython3",
   "version": "3.11.8"
  }
 },
 "nbformat": 4,
 "nbformat_minor": 5
}
