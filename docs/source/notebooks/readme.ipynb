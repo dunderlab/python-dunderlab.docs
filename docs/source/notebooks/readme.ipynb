{
 "cells": [
  {
   "cell_type": "markdown",
   "id": "958c719e-18ec-40ee-a345-810b785824a7",
   "metadata": {},
   "source": [
    "# DunderLab - Docs"
   ]
  }
 ],
 "metadata": {
  "kernelspec": {
   "display_name": "Python 3 (ipykernel)",
   "language": "python",
   "name": "python3"
  },
  "language_info": {
   "codemirror_mode": {
    "name": "ipython",
    "version": 3
   },
   "file_extension": ".py",
   "mimetype": "text/x-python",
   "name": "python",
   "nbconvert_exporter": "python",
   "pygments_lexer": "ipython3",
   "version": "3.10.8"
  }
 },
 "nbformat": 4,
 "nbformat_minor": 5
}
