{
 "cells": [
  {
   "cell_type": "markdown",
   "id": "9bc89c18-2f19-4914-9f49-76743ee50f13",
   "metadata": {},
   "source": [
    "# Connect with Read the Docs"
   ]
  },
  {
   "cell_type": "markdown",
   "id": "41fcf0bb-f186-472f-9a22-9618004c1c48",
   "metadata": {},
   "source": [
    "Only one step is necessary to upload the documentation to [Read the Docs](https://readthedocs.org/), that is create a ```.readthedocs.yml``` in the root of the project with the following content:"
   ]
  },
  {
   "cell_type": "code",
   "execution_count": null,
   "id": "62e9e885-adad-4e14-b1d9-f8a11f7dea47",
   "metadata": {},
   "outputs": [],
   "source": [
    "version: 2\n",
    "formats: all\n",
    "python:\n",
    "  version: 3\n",
    "  install:\n",
    "    - requirements: docs/requirements\n",
    "  system_packages: true "
   ]
  },
  {
   "cell_type": "markdown",
   "id": "dca47989-7be9-4a60-9fe4-6773a9244d25",
   "metadata": {},
   "source": [
    "Special attention to the ```Default branch``` definition:"
   ]
  },
  {
   "cell_type": "markdown",
   "id": "8eb0a11e-23ae-407c-8732-6b9302989d35",
   "metadata": {},
   "source": [
    "![Read the Docs](_images/readthedocs.png \"Read the Docs\")"
   ]
  }
 ],
 "metadata": {
  "kernelspec": {
   "display_name": "Python 3 (ipykernel)",
   "language": "python",
   "name": "python3"
  },
  "language_info": {
   "codemirror_mode": {
    "name": "ipython",
    "version": 3
   },
   "file_extension": ".py",
   "mimetype": "text/x-python",
   "name": "python",
   "nbconvert_exporter": "python",
   "pygments_lexer": "ipython3",
   "version": "3.10.9"
  }
 },
 "nbformat": 4,
 "nbformat_minor": 5
}
