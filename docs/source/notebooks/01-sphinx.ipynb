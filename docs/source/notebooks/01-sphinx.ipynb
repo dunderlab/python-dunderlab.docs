{
 "cells": [
  {
   "cell_type": "markdown",
   "id": "7d5ea435-69bc-4038-91f3-a5286ae3ed01",
   "metadata": {},
   "source": [
    "# Sphinx quickstart"
   ]
  },
  {
   "cell_type": "markdown",
   "id": "d72a0692-c93e-451c-b8d1-e737d2394acc",
   "metadata": {},
   "source": [
    "Sphinx is the main backend to generate the documentation,  the ```sphinx-quickstart``` command will generate the starter tree directory."
   ]
  },
  {
   "cell_type": "code",
   "execution_count": null,
   "id": "4884196f-02ce-401e-a93b-cefaedfe018d",
   "metadata": {},
   "outputs": [],
   "source": [
    "$ mkdir docs\n",
    "$ cd docs\n",
    "$ sphinx-quickstart\n",
    "Welcome to the Sphinx 5.3.0 quickstart utility.\n",
    "\n",
    "Please enter values for the following settings (just press Enter to\n",
    "accept a default value, if one is given in brackets).\n",
    "\n",
    "Selected root path: .\n",
    "\n",
    "You have two options for placing the build directory for Sphinx output.\n",
    "Either, you use a directory \"_build\" within the root path, or you separate\n",
    "\"source\" and \"build\" directories within the root path.\n",
    "> Separate source and build directories (y/n) [n]: y\n",
    "\n",
    "The project name will occur in several places in the built documentation.\n",
    "> Project name: DunderLab - Docs\n",
    "> Author name(s): Yeison Cardona\n",
    "> Project release []: \n",
    "\n",
    "If the documents are to be written in a language other than English,\n",
    "you can select a language here by its language code. Sphinx will then\n",
    "translate text that it generates into that language.\n",
    "\n",
    "For a list of supported codes, see\n",
    "https://www.sphinx-doc.org/en/master/usage/configuration.html#confval-language.\n",
    "> Project language [en]: \n",
    "\n",
    "Creating file docs/source/conf.py.\n",
    "Creating file docs/source/index.rst.\n",
    "Creating file docs/Makefile.\n",
    "Creating file docs/make.bat.\n",
    "\n",
    "Finished: An initial directory structure has been created.\n",
    "\n",
    "You should now populate your master file docs/source/index.rst and create other documentation\n",
    "source files. Use the Makefile to build the docs, like so:\n",
    "   make builder\n",
    "where \"builder\" is one of the supported builders, e.g. html, latex or linkcheck."
   ]
  }
 ],
 "metadata": {
  "kernelspec": {
   "display_name": "Python 3 (ipykernel)",
   "language": "python",
   "name": "python3"
  },
  "language_info": {
   "codemirror_mode": {
    "name": "ipython",
    "version": 3
   },
   "file_extension": ".py",
   "mimetype": "text/x-python",
   "name": "python",
   "nbconvert_exporter": "python",
   "pygments_lexer": "ipython3",
   "version": "3.10.9"
  }
 },
 "nbformat": 4,
 "nbformat_minor": 5
}
