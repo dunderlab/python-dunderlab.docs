{
 "cells": [
  {
   "cell_type": "markdown",
   "id": "9bc89c18-2f19-4914-9f49-76743ee50f13",
   "metadata": {},
   "source": [
    "# Connect with Read the Docs"
   ]
  },
  {
   "cell_type": "markdown",
   "id": "41fcf0bb-f186-472f-9a22-9618004c1c48",
   "metadata": {},
   "source": [
    "Only one step is necessary to upload the documentation to [Read the Docs](https://readthedocs.org/), that is create a ```.readthedocs.yml``` in the root of the project with the following content:"
   ]
  },
  {
   "cell_type": "code",
   "execution_count": null,
   "id": "62e9e885-adad-4e14-b1d9-f8a11f7dea47",
   "metadata": {},
   "outputs": [],
   "source": [
    "# .readthedocs.yml\n",
    "# Read the Docs configuration file\n",
    "# See https://docs.readthedocs.io/en/stable/config-file/v2.html for details\n",
    "\n",
    "# Required\n",
    "version: 2\n",
    "\n",
    "# Build documentation in the docs/ directory with Sphinx\n",
    "sphinx:\n",
    "  configuration: docs/source/conf.py\n",
    "\n",
    "# Build documentation with MkDocs\n",
    "#mkdocs:\n",
    "#  configuration: mkdocs.yml\n",
    "\n",
    "# Optionally set the version of Python and requirements required to build your docs\n",
    "python:\n",
    "  install:\n",
    "    - requirements: docs/requirements\n",
    "\n",
    "\n",
    "# Set the version of Python and other tools you might need\n",
    "build:\n",
    "  os: ubuntu-22.04\n",
    "  tools:\n",
    "    python: \"3.11\"\n",
    "\n",
    "formats:\n",
    "  - epub\n",
    "  - pdf"
   ]
  },
  {
   "cell_type": "markdown",
   "id": "dca47989-7be9-4a60-9fe4-6773a9244d25",
   "metadata": {},
   "source": [
    "Special attention to the ```Default branch``` definition:"
   ]
  },
  {
   "cell_type": "markdown",
   "id": "8eb0a11e-23ae-407c-8732-6b9302989d35",
   "metadata": {},
   "source": [
    "![Read the Docs](_images/readthedocs.png \"Read the Docs\")"
   ]
  }
 ],
 "metadata": {
  "kernelspec": {
   "display_name": "Python 3 (ipykernel)",
   "language": "python",
   "name": "python3"
  },
  "language_info": {
   "codemirror_mode": {
    "name": "ipython",
    "version": 3
   },
   "file_extension": ".py",
   "mimetype": "text/x-python",
   "name": "python",
   "nbconvert_exporter": "python",
   "pygments_lexer": "ipython3",
   "version": "3.11.8"
  }
 },
 "nbformat": 4,
 "nbformat_minor": 5
}
