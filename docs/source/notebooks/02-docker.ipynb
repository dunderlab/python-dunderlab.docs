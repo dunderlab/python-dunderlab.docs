{
 "cells": [
  {
   "cell_type": "markdown",
   "id": "e9b42020-5593-4fe6-a85c-d5cfbfe9f634",
   "metadata": {},
   "source": [
    "# Docker Commands\n",
    "\n",
    "Using [sphinx-docker-images](https://github.com/sphinx-doc/sphinx-docker-images), you can efficiently generate, build, and compile documentation directly within Docker containers. This approach integrates documentation processes seamlessly into both development and production workflows."
   ]
  },
  {
   "cell_type": "code",
   "execution_count": null,
   "id": "ed5a7494-52bb-40f3-9d56-acc878b747e2",
   "metadata": {},
   "outputs": [],
   "source": [
    "$ docker pull dunderlab/docs\n",
    "$ docker pull sphinxdoc/sphinx-latexpdf"
   ]
  },
  {
   "cell_type": "markdown",
   "id": "b6e43dcf-c761-498c-bd3d-f50b8a3153ad",
   "metadata": {},
   "source": [
    "## `quickstart`\n",
    "\n",
    "The enhanced `sphinx-quickstart` command offers a more efficient and user-friendly setup process. It streamlines the initial configuration, accommodating both novice and experienced users for rapid documentation deployment."
   ]
  },
  {
   "cell_type": "code",
   "execution_count": null,
   "id": "24b3304f-3d30-40ea-add8-0c352cf38a1e",
   "metadata": {},
   "outputs": [],
   "source": [
    "$ dunderlab_docs quickstart"
   ]
  },
  {
   "cell_type": "markdown",
   "id": "84f3130b-dc18-4ae9-8796-d6c4818de4a4",
   "metadata": {},
   "source": [
    "## `apidoc`\n",
    "\n",
    "The refined `sphinx-apidoc` command simplifies its functionality, requiring only the module name as input. This makes the documentation generation process more intuitive and faster, streamlining workflows for developers and documentarians."
   ]
  },
  {
   "cell_type": "code",
   "execution_count": null,
   "id": "afd480f1-f654-41fe-80f4-23a1ad59b530",
   "metadata": {},
   "outputs": [],
   "source": [
    "$ dunderlab_docs apidoc <module_name>"
   ]
  },
  {
   "cell_type": "markdown",
   "id": "eedd4b96-8d27-4f24-b42c-0f75320b40d0",
   "metadata": {},
   "source": [
    "## `build`\n",
    "\n",
    "The `build` command, similar to `sphinx-build`, requires specifying the output format, such as `HTML`, `EPUB`, or `LaTeX PDF`, along with the module name. This flexibility is crucial for generating documentation in various formats to meet different needs."
   ]
  },
  {
   "cell_type": "code",
   "execution_count": null,
   "id": "356e97a1-f03e-4ad1-be47-95730ba0f6ca",
   "metadata": {},
   "outputs": [],
   "source": [
    "$ dunderlab_docs build <html,epub,latexpdf> <module_name>"
   ]
  },
  {
   "cell_type": "markdown",
   "id": "0d5e376f-48ce-4a18-88ec-81c124eeaf4e",
   "metadata": {},
   "source": [
    "## `server`\n",
    "\n",
    "The `server` command launches HTML documentation in a web browser, simplifying the review and sharing process. It allows immediate viewing of rendered HTML pages in the browser, ensuring quick assessment of the documentation's visual and functional aspects."
   ]
  },
  {
   "cell_type": "code",
   "execution_count": null,
   "id": "1157b8a3-bbee-48fa-8fa8-021b5f0d4a84",
   "metadata": {},
   "outputs": [],
   "source": [
    "$ dunderlab_docs server <port>"
   ]
  }
 ],
 "metadata": {
  "kernelspec": {
   "display_name": "Python 3 (ipykernel)",
   "language": "python",
   "name": "python3"
  },
  "language_info": {
   "codemirror_mode": {
    "name": "ipython",
    "version": 3
   },
   "file_extension": ".py",
   "mimetype": "text/x-python",
   "name": "python",
   "nbconvert_exporter": "python",
   "pygments_lexer": "ipython3",
   "version": "3.11.6"
  }
 },
 "nbformat": 4,
 "nbformat_minor": 5
}
